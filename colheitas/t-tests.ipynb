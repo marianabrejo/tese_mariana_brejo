{
 "cells": [
  {
   "cell_type": "code",
   "execution_count": 2,
   "id": "a603ed91",
   "metadata": {},
   "outputs": [],
   "source": [
    "from scipy import stats\n",
    "import statistics"
   ]
  },
  {
   "cell_type": "code",
   "execution_count": 23,
   "id": "79e30782",
   "metadata": {},
   "outputs": [],
   "source": [
    "%store -r supply_mlp_month\n",
    "%store -r supply_mlp_month_rh\n",
    "%store -r supply_mlp_month_cst\n",
    "%store -r supply_mlp_month_abo\n",
    "%store -r supply_mlp_month_sex\n",
    "%store -r supply_mlp_week\n",
    "%store -r supply_lstm_month\n",
    "%store -r supply_lstm_month_rh\n",
    "%store -r supply_lstm_month_cst\n",
    "%store -r supply_lstm_month_abo\n",
    "%store -r supply_lstm_month_sex\n",
    "%store -r supply_lstm_month_cst_single\n",
    "%store -r supply_lstm_month_cst_multi\n",
    "%store -r supply_lstm_week\n",
    "%store -r supply_lstm_week_cst"
   ]
  },
  {
   "cell_type": "code",
   "execution_count": 25,
   "id": "677cbaaa",
   "metadata": {},
   "outputs": [],
   "source": [
    "maes = [supply_mlp_month[0],\n",
    "        supply_mlp_month_rh[0],\n",
    "        supply_mlp_month_cst[0],\n",
    "        supply_mlp_month_abo[0],\n",
    "        supply_mlp_month_sex[0],\n",
    "        supply_lstm_month[0],\n",
    "        supply_lstm_month_rh[0],\n",
    "        supply_lstm_month_cst[0],\n",
    "        supply_lstm_month_abo[0],\n",
    "        supply_lstm_month_sex[0],\n",
    "        supply_lstm_month_cst_single[0],\n",
    "        supply_lstm_month_cst_multi[0],\n",
    "        supply_lstm_week[0],\n",
    "        supply_lstm_week_cst[0]]"
   ]
  },
  {
   "cell_type": "code",
   "execution_count": 26,
   "id": "fd903b18",
   "metadata": {},
   "outputs": [
    {
     "name": "stdout",
     "output_type": "stream",
     "text": [
      "0.7197265625 0.35986328125 0.660614013671875\n",
      "0.1353759765625 0.06768798828125 0.939727783203125\n",
      "0.15142822265625 0.075714111328125 0.93231201171875\n",
      "0.207763671875 0.1038818359375 0.90618896484375\n",
      "0.00152587890625 0.000762939453125 0.999420166015625\n",
      "0.00018310546875 9.1552734375e-05 0.99993896484375\n"
     ]
    }
   ],
   "source": [
    "maes = [supply_mlp_month[0],\n",
    "        supply_lstm_month[0],\n",
    "        supply_mlp_month_sex[0],\n",
    "        supply_mlp_month_abo[0],\n",
    "        supply_mlp_month_rh[0],\n",
    "        supply_mlp_month_cst[0],\n",
    "        supply_mlp_week[0]]\n",
    "for _ in maes[1:]:\n",
    "    print(stats.wilcoxon(maes[0],_)[1], \n",
    "          stats.wilcoxon(maes[0],_, alternative='greater')[1],\n",
    "          stats.wilcoxon(maes[0],_, alternative='less')[1])    "
   ]
  },
  {
   "cell_type": "code",
   "execution_count": 27,
   "id": "ad2e9145",
   "metadata": {},
   "outputs": [
    {
     "name": "stdout",
     "output_type": "stream",
     "text": [
      "0.7197265625 0.660614013671875 0.35986328125\n",
      "0.1353759765625 0.06768798828125 0.939727783203125\n",
      "0.063720703125 0.0318603515625 0.972320556640625\n",
      "0.0946044921875 0.04730224609375 0.9583740234375\n",
      "0.1353759765625 0.06768798828125 0.939727783203125\n",
      "0.00201416015625 0.001007080078125 0.999237060546875\n"
     ]
    }
   ],
   "source": [
    "maes = [supply_lstm_month[0],\n",
    "        supply_mlp_month[0],\n",
    "        supply_lstm_month_sex[0],\n",
    "        supply_lstm_month_abo[0],\n",
    "        supply_lstm_month_rh[0],\n",
    "        supply_lstm_month_cst[0],\n",
    "        supply_lstm_week[0]]\n",
    "for _ in maes[1:]:\n",
    "    print(stats.wilcoxon(maes[0],_)[1], \n",
    "          stats.wilcoxon(maes[0],_, alternative='greater')[1],\n",
    "          stats.wilcoxon(maes[0],_, alternative='less')[1])   "
   ]
  },
  {
   "cell_type": "code",
   "execution_count": 29,
   "id": "77c432f2",
   "metadata": {},
   "outputs": [
    {
     "name": "stdout",
     "output_type": "stream",
     "text": [
      "0.00201416015625 0.001007080078125 0.999237060546875\n",
      "0.1353759765625 0.06768798828125 0.939727783203125\n",
      "0.00537109375 0.002685546875 0.99786376953125\n",
      "0.00262451171875 0.001312255859375 0.998992919921875\n",
      "0.0008544921875 0.00042724609375 0.99969482421875\n"
     ]
    }
   ],
   "source": [
    "maes = [supply_lstm_month[0],\n",
    "        supply_lstm_week[0],\n",
    "        supply_lstm_month_cst[0],\n",
    "        supply_lstm_month_cst_single[0],\n",
    "        supply_lstm_month_cst_multi[0],\n",
    "        supply_lstm_week_cst[0]]\n",
    "for _ in maes[1:]:\n",
    "    print(stats.wilcoxon(maes[0],_)[1], \n",
    "          stats.wilcoxon(maes[0],_, alternative='greater')[1],\n",
    "          stats.wilcoxon(maes[0],_, alternative='less')[1])   "
   ]
  },
  {
   "cell_type": "code",
   "execution_count": 31,
   "id": "07b5f8e5",
   "metadata": {},
   "outputs": [
    {
     "name": "stdout",
     "output_type": "stream",
     "text": [
      "0.00201416015625 0.999237060546875 0.001007080078125\n",
      "0.0001220703125 0.999969482421875 6.103515625e-05\n",
      "0.0042724609375 0.998321533203125 0.00213623046875\n",
      "0.012451171875 0.994873046875 0.0062255859375\n",
      "0.1353759765625 0.939727783203125 0.06768798828125\n"
     ]
    }
   ],
   "source": [
    "maes = [supply_lstm_week[0],\n",
    "        supply_lstm_month[0],\n",
    "        supply_lstm_month_cst[0],\n",
    "        supply_lstm_month_cst_single[0],\n",
    "        supply_lstm_month_cst_multi[0],\n",
    "        supply_lstm_week_cst[0]]\n",
    "for _ in maes[1:]:\n",
    "    print(stats.wilcoxon(maes[0],_)[1], \n",
    "          stats.wilcoxon(maes[0],_, alternative='greater')[1],\n",
    "          stats.wilcoxon(maes[0],_, alternative='less')[1])   "
   ]
  },
  {
   "cell_type": "code",
   "execution_count": 32,
   "id": "1115304c",
   "metadata": {},
   "outputs": [
    {
     "name": "stdout",
     "output_type": "stream",
     "text": [
      "0.1353759765625 0.939727783203125 0.06768798828125\n",
      "0.0001220703125 6.103515625e-05 0.999969482421875\n",
      "0.00030517578125 0.000152587890625 0.999908447265625\n",
      "0.00018310546875 9.1552734375e-05 0.99993896484375\n",
      "0.00018310546875 9.1552734375e-05 0.99993896484375\n"
     ]
    }
   ],
   "source": [
    "maes = [supply_lstm_month_cst[0],\n",
    "        supply_lstm_month[0],\n",
    "        supply_lstm_week[0],\n",
    "        supply_lstm_month_cst_single[0],\n",
    "        supply_lstm_month_cst_multi[0],\n",
    "        supply_lstm_week_cst[0]]\n",
    "for _ in maes[1:]:\n",
    "    print(stats.wilcoxon(maes[0],_)[1], \n",
    "          stats.wilcoxon(maes[0],_, alternative='greater')[1],\n",
    "          stats.wilcoxon(maes[0],_, alternative='less')[1])   "
   ]
  },
  {
   "cell_type": "code",
   "execution_count": 34,
   "id": "5e0e34fd",
   "metadata": {},
   "outputs": [
    {
     "name": "stdout",
     "output_type": "stream",
     "text": [
      "0.00537109375 0.99786376953125 0.002685546875\n",
      "0.0042724609375 0.00213623046875 0.998321533203125\n",
      "0.00030517578125 0.999908447265625 0.000152587890625\n",
      "0.207763671875 0.1038818359375 0.90618896484375\n",
      "0.12054443359375 0.060272216796875 0.946502685546875\n"
     ]
    }
   ],
   "source": [
    "maes = [supply_lstm_month_cst_single[0],\n",
    "        supply_lstm_month[0],\n",
    "        supply_lstm_week[0],\n",
    "        supply_lstm_month_cst[0],\n",
    "        supply_lstm_month_cst_multi[0],\n",
    "        supply_lstm_week_cst[0]]\n",
    "for _ in maes[1:]:\n",
    "    print(stats.wilcoxon(maes[0],_)[1], \n",
    "          stats.wilcoxon(maes[0],_, alternative='greater')[1],\n",
    "          stats.wilcoxon(maes[0],_, alternative='less')[1])   "
   ]
  },
  {
   "cell_type": "code",
   "execution_count": 35,
   "id": "43cbf046",
   "metadata": {},
   "outputs": [
    {
     "name": "stdout",
     "output_type": "stream",
     "text": [
      "0.00262451171875 0.998992919921875 0.001312255859375\n",
      "0.012451171875 0.0062255859375 0.994873046875\n",
      "0.00018310546875 0.99993896484375 9.1552734375e-05\n",
      "0.207763671875 0.90618896484375 0.1038818359375\n",
      "0.5614013671875 0.28070068359375 0.737762451171875\n"
     ]
    }
   ],
   "source": [
    "maes = [supply_lstm_month_cst_multi[0],\n",
    "        supply_lstm_month[0],\n",
    "        supply_lstm_week[0],\n",
    "        supply_lstm_month_cst[0],\n",
    "        supply_lstm_month_cst_single[0],\n",
    "        supply_lstm_week_cst[0]]\n",
    "for _ in maes[1:]:\n",
    "    print(stats.wilcoxon(maes[0],_)[1], \n",
    "          stats.wilcoxon(maes[0],_, alternative='greater')[1],\n",
    "          stats.wilcoxon(maes[0],_, alternative='less')[1])   "
   ]
  },
  {
   "cell_type": "code",
   "execution_count": 37,
   "id": "838a23bb",
   "metadata": {},
   "outputs": [
    {
     "name": "stdout",
     "output_type": "stream",
     "text": [
      "0.0008544921875 0.99969482421875 0.00042724609375\n",
      "0.1353759765625 0.06768798828125 0.939727783203125\n",
      "0.00018310546875 0.99993896484375 9.1552734375e-05\n",
      "0.12054443359375 0.946502685546875 0.060272216796875\n",
      "0.5614013671875 0.737762451171875 0.28070068359375\n"
     ]
    }
   ],
   "source": [
    "maes = [supply_lstm_week_cst[0],\n",
    "        supply_lstm_month[0],\n",
    "        supply_lstm_week[0],\n",
    "        supply_lstm_month_cst[0],\n",
    "        supply_lstm_month_cst_single[0],\n",
    "        supply_lstm_month_cst_multi[0]]\n",
    "for _ in maes[1:]:\n",
    "    print(stats.wilcoxon(maes[0],_)[1], \n",
    "          stats.wilcoxon(maes[0],_, alternative='greater')[1],\n",
    "          stats.wilcoxon(maes[0],_, alternative='less')[1])   "
   ]
  }
 ],
 "metadata": {
  "kernelspec": {
   "display_name": "Python 3 (ipykernel)",
   "language": "python",
   "name": "python3"
  },
  "language_info": {
   "codemirror_mode": {
    "name": "ipython",
    "version": 3
   },
   "file_extension": ".py",
   "mimetype": "text/x-python",
   "name": "python",
   "nbconvert_exporter": "python",
   "pygments_lexer": "ipython3",
   "version": "3.8.10"
  }
 },
 "nbformat": 4,
 "nbformat_minor": 5
}
