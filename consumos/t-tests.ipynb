{
 "cells": [
  {
   "cell_type": "code",
   "execution_count": 1,
   "id": "a603ed91",
   "metadata": {},
   "outputs": [],
   "source": [
    "from scipy import stats\n",
    "import statistics"
   ]
  },
  {
   "cell_type": "code",
   "execution_count": 2,
   "id": "79e30782",
   "metadata": {},
   "outputs": [],
   "source": [
    "%store -r demand_mlp_month\n",
    "%store -r demand_mlp_month_rh\n",
    "%store -r demand_mlp_month_cst\n",
    "%store -r demand_mlp_month_abo\n",
    "%store -r demand_mlp_week\n",
    "%store -r demand_lstm_month\n",
    "%store -r demand_lstm_month_rh\n",
    "%store -r demand_lstm_month_cst\n",
    "%store -r demand_lstm_month_abo\n",
    "%store -r demand_lstm_month_cst_single\n",
    "%store -r demand_lstm_month_cst_multi\n",
    "%store -r demand_lstm_week\n",
    "%store -r demand_lstm_week_cst"
   ]
  },
  {
   "cell_type": "code",
   "execution_count": 3,
   "id": "677cbaaa",
   "metadata": {},
   "outputs": [],
   "source": [
    "maes = [demand_mlp_month[0],\n",
    "        demand_mlp_month_rh[0],\n",
    "        demand_mlp_month_cst[0],\n",
    "        demand_mlp_month_abo[0],\n",
    "        demand_lstm_month[0],\n",
    "        demand_lstm_month_rh[0],\n",
    "        demand_lstm_month_cst[0],\n",
    "        demand_lstm_month_abo[0],\n",
    "        demand_lstm_month_cst_single[0],\n",
    "        demand_lstm_month_cst_multi[0],\n",
    "        demand_lstm_week[0],\n",
    "        demand_lstm_week_cst[0]]"
   ]
  },
  {
   "cell_type": "code",
   "execution_count": 4,
   "id": "fd903b18",
   "metadata": {},
   "outputs": [
    {
     "name": "stdout",
     "output_type": "stream",
     "text": [
      "0.25238037109375 0.885345458984375 0.126190185546875\n",
      "0.5614013671875 0.737762451171875 0.28070068359375\n",
      "0.890380859375 0.5765380859375 0.4451904296875\n",
      "0.33026123046875 0.848602294921875 0.165130615234375\n",
      "0.0008544921875 0.00042724609375 0.99969482421875\n"
     ]
    }
   ],
   "source": [
    "maes = [demand_mlp_month[0],\n",
    "        demand_lstm_month[0],\n",
    "        demand_mlp_month_abo[0],\n",
    "        demand_mlp_month_rh[0],\n",
    "        demand_mlp_month_cst[0],\n",
    "        demand_mlp_week[0]]\n",
    "for _ in maes[1:]:\n",
    "    print(stats.wilcoxon(maes[0],_)[1], \n",
    "          stats.wilcoxon(maes[0],_, alternative='greater')[1],\n",
    "          stats.wilcoxon(maes[0],_, alternative='less')[1])    "
   ]
  },
  {
   "cell_type": "code",
   "execution_count": 5,
   "id": "ad2e9145",
   "metadata": {},
   "outputs": [
    {
     "name": "stdout",
     "output_type": "stream",
     "text": [
      "0.25238037109375 0.126190185546875 0.885345458984375\n",
      "0.48870849609375 0.244354248046875 0.772857666015625\n",
      "0.207763671875 0.90618896484375 0.1038818359375\n",
      "0.12054443359375 0.060272216796875 0.946502685546875\n",
      "0.00018310546875 9.1552734375e-05 0.99993896484375\n"
     ]
    }
   ],
   "source": [
    "maes = [demand_lstm_month[0],\n",
    "        demand_mlp_month[0],\n",
    "        demand_lstm_month_abo[0],\n",
    "        demand_lstm_month_rh[0],\n",
    "        demand_lstm_month_cst[0],\n",
    "        demand_lstm_week[0]]\n",
    "for _ in maes[1:]:\n",
    "    print(stats.wilcoxon(maes[0],_)[1], \n",
    "          stats.wilcoxon(maes[0],_, alternative='greater')[1],\n",
    "          stats.wilcoxon(maes[0],_, alternative='less')[1])   "
   ]
  },
  {
   "cell_type": "code",
   "execution_count": 6,
   "id": "87e07fb0",
   "metadata": {},
   "outputs": [
    {
     "name": "stdout",
     "output_type": "stream",
     "text": [
      "0.00018310546875 9.1552734375e-05 0.99993896484375\n",
      "0.12054443359375 0.060272216796875 0.946502685546875\n",
      "0.0008544921875 0.00042724609375 0.99969482421875\n",
      "0.0008544921875 0.00042724609375 0.99969482421875\n",
      "0.00018310546875 9.1552734375e-05 0.99993896484375\n"
     ]
    }
   ],
   "source": [
    "maes = [demand_lstm_month[0],\n",
    "        demand_lstm_week[0],\n",
    "        demand_lstm_month_cst[0],\n",
    "        demand_lstm_month_cst_single[0],\n",
    "        demand_lstm_month_cst_multi[0],\n",
    "        demand_lstm_week_cst[0]]\n",
    "for _ in maes[1:]:\n",
    "    print(stats.wilcoxon(maes[0],_)[1], \n",
    "          stats.wilcoxon(maes[0],_, alternative='greater')[1],\n",
    "          stats.wilcoxon(maes[0],_, alternative='less')[1])   "
   ]
  },
  {
   "cell_type": "code",
   "execution_count": 7,
   "id": "6c559758",
   "metadata": {},
   "outputs": [
    {
     "name": "stdout",
     "output_type": "stream",
     "text": [
      "0.00018310546875 0.99993896484375 9.1552734375e-05\n",
      "0.00201416015625 0.999237060546875 0.001007080078125\n",
      "0.00262451171875 0.998992919921875 0.001312255859375\n",
      "0.00262451171875 0.998992919921875 0.001312255859375\n",
      "0.890380859375 0.5765380859375 0.4451904296875\n"
     ]
    }
   ],
   "source": [
    "maes = [demand_lstm_week[0],\n",
    "        demand_lstm_month[0],\n",
    "        demand_lstm_month_cst[0],\n",
    "        demand_lstm_month_cst_single[0],\n",
    "        demand_lstm_month_cst_multi[0],\n",
    "        demand_lstm_week_cst[0]]\n",
    "for _ in maes[1:]:\n",
    "    print(stats.wilcoxon(maes[0],_)[1], \n",
    "          stats.wilcoxon(maes[0],_, alternative='greater')[1],\n",
    "          stats.wilcoxon(maes[0],_, alternative='less')[1])   "
   ]
  },
  {
   "cell_type": "code",
   "execution_count": 8,
   "id": "37d95763",
   "metadata": {},
   "outputs": [
    {
     "name": "stdout",
     "output_type": "stream",
     "text": [
      "0.12054443359375 0.946502685546875 0.060272216796875\n",
      "0.00201416015625 0.001007080078125 0.999237060546875\n",
      "0.012451171875 0.0062255859375 0.994873046875\n",
      "0.012451171875 0.0062255859375 0.994873046875\n",
      "0.01025390625 0.005126953125 0.995819091796875\n"
     ]
    }
   ],
   "source": [
    "maes = [demand_lstm_month_cst[0],\n",
    "        demand_lstm_month[0],\n",
    "        demand_lstm_week[0],\n",
    "        demand_lstm_month_cst_single[0],\n",
    "        demand_lstm_month_cst_multi[0],\n",
    "        demand_lstm_week_cst[0]]\n",
    "for _ in maes[1:]:\n",
    "    print(stats.wilcoxon(maes[0],_)[1], \n",
    "          stats.wilcoxon(maes[0],_, alternative='greater')[1],\n",
    "          stats.wilcoxon(maes[0],_, alternative='less')[1])   "
   ]
  },
  {
   "cell_type": "code",
   "execution_count": 9,
   "id": "a67519ee",
   "metadata": {},
   "outputs": [
    {
     "name": "stdout",
     "output_type": "stream",
     "text": [
      "0.0008544921875 0.99969482421875 0.00042724609375\n",
      "0.00262451171875 0.001312255859375 0.998992919921875\n",
      "0.012451171875 0.994873046875 0.0062255859375\n",
      "0.12054443359375 0.060272216796875 0.946502685546875\n",
      "0.00537109375 0.002685546875 0.99786376953125\n"
     ]
    }
   ],
   "source": [
    "maes = [demand_lstm_month_cst_single[0],\n",
    "        demand_lstm_month[0],\n",
    "        demand_lstm_week[0],\n",
    "        demand_lstm_month_cst[0],\n",
    "        demand_lstm_month_cst_multi[0],\n",
    "        demand_lstm_week_cst[0]]\n",
    "for _ in maes[1:]:\n",
    "    print(stats.wilcoxon(maes[0],_)[1], \n",
    "          stats.wilcoxon(maes[0],_, alternative='greater')[1],\n",
    "          stats.wilcoxon(maes[0],_, alternative='less')[1])   "
   ]
  },
  {
   "cell_type": "code",
   "execution_count": 10,
   "id": "08b19337",
   "metadata": {
    "scrolled": true
   },
   "outputs": [
    {
     "name": "stdout",
     "output_type": "stream",
     "text": [
      "0.0008544921875 0.99969482421875 0.00042724609375\n",
      "0.00262451171875 0.001312255859375 0.998992919921875\n",
      "0.012451171875 0.994873046875 0.0062255859375\n",
      "0.12054443359375 0.946502685546875 0.060272216796875\n",
      "0.00335693359375 0.001678466796875 0.998687744140625\n"
     ]
    }
   ],
   "source": [
    "maes = [demand_lstm_month_cst_multi[0],\n",
    "        demand_lstm_month[0],\n",
    "        demand_lstm_week[0],\n",
    "        demand_lstm_month_cst[0],\n",
    "        demand_lstm_month_cst_single[0],\n",
    "        demand_lstm_week_cst[0]]\n",
    "for _ in maes[1:]:\n",
    "    print(stats.wilcoxon(maes[0],_)[1], \n",
    "          stats.wilcoxon(maes[0],_, alternative='greater')[1],\n",
    "          stats.wilcoxon(maes[0],_, alternative='less')[1])   "
   ]
  },
  {
   "cell_type": "code",
   "execution_count": 11,
   "id": "9fa1318c",
   "metadata": {},
   "outputs": [
    {
     "name": "stdout",
     "output_type": "stream",
     "text": [
      "0.00018310546875 0.99993896484375 9.1552734375e-05\n",
      "0.890380859375 0.4451904296875 0.5765380859375\n",
      "0.01025390625 0.995819091796875 0.005126953125\n",
      "0.00537109375 0.99786376953125 0.002685546875\n",
      "0.00335693359375 0.998687744140625 0.001678466796875\n"
     ]
    }
   ],
   "source": [
    "maes = [demand_lstm_week_cst[0],\n",
    "        demand_lstm_month[0],\n",
    "        demand_lstm_week[0],\n",
    "        demand_lstm_month_cst[0],\n",
    "        demand_lstm_month_cst_single[0],\n",
    "        demand_lstm_month_cst_multi[0]]\n",
    "for _ in maes[1:]:\n",
    "    print(stats.wilcoxon(maes[0],_)[1], \n",
    "          stats.wilcoxon(maes[0],_, alternative='greater')[1],\n",
    "          stats.wilcoxon(maes[0],_, alternative='less')[1])   "
   ]
  }
 ],
 "metadata": {
  "kernelspec": {
   "display_name": "Python 3 (ipykernel)",
   "language": "python",
   "name": "python3"
  },
  "language_info": {
   "codemirror_mode": {
    "name": "ipython",
    "version": 3
   },
   "file_extension": ".py",
   "mimetype": "text/x-python",
   "name": "python",
   "nbconvert_exporter": "python",
   "pygments_lexer": "ipython3",
   "version": "3.8.10"
  }
 },
 "nbformat": 4,
 "nbformat_minor": 5
}
