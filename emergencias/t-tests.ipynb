{
 "cells": [
  {
   "cell_type": "code",
   "execution_count": 1,
   "id": "a603ed91",
   "metadata": {},
   "outputs": [],
   "source": [
    "from scipy import stats\n",
    "import statistics"
   ]
  },
  {
   "cell_type": "code",
   "execution_count": 2,
   "id": "79e30782",
   "metadata": {},
   "outputs": [],
   "source": [
    "%store -r emer_mlp_day\n",
    "%store -r emer_mlp_day_priority\n",
    "%store -r emer_mlp_day_region\n",
    "%store -r emer_mlp_day_type\n",
    "%store -r emer_mlp_hour\n",
    "%store -r emer_lstm_day\n",
    "%store -r emer_lstm_day_priority\n",
    "%store -r emer_lstm_day_region\n",
    "%store -r emer_lstm_day_type\n",
    "%store -r emer_lstm_day_region_single\n",
    "%store -r emer_lstm_day_region_mul\n",
    "%store -r emer_lstm_hour"
   ]
  },
  {
   "cell_type": "code",
   "execution_count": 19,
   "id": "c69f951e",
   "metadata": {},
   "outputs": [
    {
     "data": {
      "text/plain": [
       "30"
      ]
     },
     "execution_count": 19,
     "metadata": {},
     "output_type": "execute_result"
    }
   ],
   "source": [
    "len(emer_mlp_hour[0])"
   ]
  },
  {
   "cell_type": "code",
   "execution_count": 6,
   "id": "677cbaaa",
   "metadata": {},
   "outputs": [],
   "source": [
    "maes = [emer_mlp_day[0],\n",
    "emer_mlp_day_priority[0],\n",
    "emer_mlp_day_region[0],   \n",
    "emer_mlp_hour[0],\n",
    "emer_lstm_day[0],\n",
    "emer_lstm_day_priority[0],\n",
    "emer_lstm_day_region[0],\n",
    "emer_lstm_day_region_single[0],\n",
    "emer_lstm_day_region_mul[0],\n",
    "emer_lstm_hour[0]]"
   ]
  },
  {
   "cell_type": "code",
   "execution_count": 7,
   "id": "59b635cb",
   "metadata": {
    "scrolled": false
   },
   "outputs": [
    {
     "name": "stdout",
     "output_type": "stream",
     "text": [
      "0.0051628768913090425\n",
      "0.29191982683742373\n",
      "0.26765551456486597\n",
      "0.007259423104901747\n",
      "0.0002196619452349712\n",
      "0.00017895790174566773\n",
      "6.361710949078058e-06\n",
      "8.036714452069557e-05\n",
      "0.022090905935105397\n",
      "0.0038194259507641315\n"
     ]
    }
   ],
   "source": [
    "for _ in maes:\n",
    "    print(stats.normaltest(_)[1])"
   ]
  },
  {
   "cell_type": "code",
   "execution_count": 8,
   "id": "fd903b18",
   "metadata": {},
   "outputs": [
    {
     "name": "stdout",
     "output_type": "stream",
     "text": [
      "0.3184906025782175 0.8407546987108913 0.15924530128910874\n",
      "0.02702915661831454 0.9864854216908427 0.01351457830915727\n",
      "6.983783147477089e-06 3.4918915737385443e-06 0.9999965081084262\n",
      "0.7498711559507313 0.6250644220246344 0.37493557797536564\n"
     ]
    }
   ],
   "source": [
    "maes = [emer_mlp_day[0],\n",
    "emer_mlp_day_region[0],\n",
    "emer_mlp_day_priority[0],\n",
    "emer_mlp_day_type[0],\n",
    "emer_lstm_day[0]]\n",
    "for _ in maes[1:]:\n",
    "    print(stats.wilcoxon(maes[0],_)[1], \n",
    "          stats.wilcoxon(maes[0],_, alternative='greater')[1],\n",
    "          stats.wilcoxon(maes[0],_, alternative='less')[1])    "
   ]
  },
  {
   "cell_type": "code",
   "execution_count": 9,
   "id": "45fec4c2",
   "metadata": {},
   "outputs": [
    {
     "name": "stdout",
     "output_type": "stream",
     "text": [
      "0.3184906025782175 0.8407546987108913 0.15924530128910874\n",
      "0.1650265656246961 0.917486717187652 0.08251328281234804\n",
      "1.7343976283205784e-06 8.671988141602892e-07 0.9999991328011858\n",
      "0.7498711559507313 0.37493557797536564 0.6250644220246344\n"
     ]
    }
   ],
   "source": [
    "maes = [emer_lstm_day[0],\n",
    "emer_lstm_day_region[0],\n",
    "emer_lstm_day_priority[0],\n",
    "emer_lstm_day_type[0],\n",
    "emer_mlp_day[0]]\n",
    "for _ in maes[1:]:\n",
    "    print(stats.wilcoxon(maes[0],_)[1], \n",
    "          stats.wilcoxon(maes[0],_, alternative='greater')[1],\n",
    "          stats.wilcoxon(maes[0],_, alternative='less')[1])    "
   ]
  },
  {
   "cell_type": "code",
   "execution_count": 14,
   "id": "5f9d0574",
   "metadata": {},
   "outputs": [
    {
     "name": "stdout",
     "output_type": "stream",
     "text": [
      "0.3184906025782175 0.8407546987108913 0.15924530128910874\n",
      "1.7343976283205784e-06 8.671988141602892e-07 0.9999991328011858\n",
      "1.7343976283205784e-06 8.671988141602892e-07 0.9999991328011858\n"
     ]
    }
   ],
   "source": [
    "maes = [emer_lstm_day[0],\n",
    "        emer_lstm_day_region[0],\n",
    "        emer_lstm_day_region_single[0],\n",
    "        emer_lstm_day_region_mul[0]]\n",
    "for _ in maes[1:]:\n",
    "    print(stats.wilcoxon(maes[0],_)[1], \n",
    "          stats.wilcoxon(maes[0],_, alternative='greater')[1],\n",
    "          stats.wilcoxon(maes[0],_, alternative='less')[1])  "
   ]
  },
  {
   "cell_type": "code",
   "execution_count": 15,
   "id": "c43e25da",
   "metadata": {},
   "outputs": [
    {
     "name": "stdout",
     "output_type": "stream",
     "text": [
      "0.3184906025782175 0.15924530128910874 0.8407546987108913\n",
      "1.7343976283205784e-06 8.671988141602892e-07 0.9999991328011858\n",
      "1.7343976283205784e-06 8.671988141602892e-07 0.9999991328011858\n"
     ]
    }
   ],
   "source": [
    "maes = [emer_lstm_day_region[0],\n",
    "        emer_lstm_day[0],\n",
    "        emer_lstm_day_region_single[0],\n",
    "        emer_lstm_day_region_mul[0]]\n",
    "for _ in maes[1:]:\n",
    "    print(stats.wilcoxon(maes[0],_)[1], \n",
    "          stats.wilcoxon(maes[0],_, alternative='greater')[1],\n",
    "          stats.wilcoxon(maes[0],_, alternative='less')[1])  "
   ]
  },
  {
   "cell_type": "code",
   "execution_count": 16,
   "id": "1373bd0f",
   "metadata": {},
   "outputs": [
    {
     "name": "stdout",
     "output_type": "stream",
     "text": [
      "1.7343976283205784e-06 0.9999991328011858 8.671988141602892e-07\n",
      "1.7343976283205784e-06 0.9999991328011858 8.671988141602892e-07\n",
      "0.2802144081140372 0.1401072040570186 0.8598927959429814\n"
     ]
    }
   ],
   "source": [
    "maes = [emer_lstm_day_region_single[0],\n",
    "        emer_lstm_day[0],\n",
    "        emer_lstm_day_region[0],\n",
    "        emer_lstm_day_region_mul[0]]\n",
    "for _ in maes[1:]:\n",
    "    print(stats.wilcoxon(maes[0],_)[1], \n",
    "          stats.wilcoxon(maes[0],_, alternative='greater')[1],\n",
    "          stats.wilcoxon(maes[0],_, alternative='less')[1])  "
   ]
  },
  {
   "cell_type": "code",
   "execution_count": 17,
   "id": "38084105",
   "metadata": {},
   "outputs": [
    {
     "name": "stdout",
     "output_type": "stream",
     "text": [
      "1.7343976283205784e-06 0.9999991328011858 8.671988141602892e-07\n",
      "1.7343976283205784e-06 0.9999991328011858 8.671988141602892e-07\n",
      "0.2802144081140372 0.8598927959429814 0.1401072040570186\n"
     ]
    }
   ],
   "source": [
    "maes = [emer_lstm_day_region_mul[0],\n",
    "        emer_lstm_day[0],\n",
    "        emer_lstm_day_region[0],\n",
    "        emer_lstm_day_region_single[0]]\n",
    "for _ in maes[1:]:\n",
    "    print(stats.wilcoxon(maes[0],_)[1], \n",
    "          stats.wilcoxon(maes[0],_, alternative='greater')[1],\n",
    "          stats.wilcoxon(maes[0],_, alternative='less')[1])  "
   ]
  },
  {
   "cell_type": "code",
   "execution_count": 11,
   "id": "2b11f7f9",
   "metadata": {},
   "outputs": [
    {
     "name": "stdout",
     "output_type": "stream",
     "text": [
      "1.7343976283205784e-06 8.671988141602892e-07 0.9999991328011858\n"
     ]
    }
   ],
   "source": [
    "maes = [emer_lstm_day[0],\n",
    "        emer_lstm_hour[0]]\n",
    "for _ in maes[1:]:\n",
    "    print(stats.wilcoxon(maes[0],_)[1], \n",
    "          stats.wilcoxon(maes[0],_, alternative='greater')[1],\n",
    "          stats.wilcoxon(maes[0],_, alternative='less')[1])  "
   ]
  },
  {
   "cell_type": "code",
   "execution_count": 12,
   "id": "ece86f31",
   "metadata": {},
   "outputs": [
    {
     "name": "stdout",
     "output_type": "stream",
     "text": [
      "1.7343976283205784e-06 8.671988141602892e-07 0.9999991328011858\n"
     ]
    }
   ],
   "source": [
    "maes = [emer_mlp_day[0],\n",
    "        emer_mlp_hour[0]]\n",
    "for _ in maes[1:]:\n",
    "    print(stats.wilcoxon(maes[0],_)[1], \n",
    "          stats.wilcoxon(maes[0],_, alternative='greater')[1],\n",
    "          stats.wilcoxon(maes[0],_, alternative='less')[1])  "
   ]
  },
  {
   "cell_type": "code",
   "execution_count": 13,
   "id": "db1e2943",
   "metadata": {},
   "outputs": [
    {
     "name": "stdout",
     "output_type": "stream",
     "text": [
      "0.1650265656246961\n",
      "0.3184906025782175\n",
      "0.7498711559507313\n"
     ]
    }
   ],
   "source": [
    "maes = [emer_lstm_day[0],\n",
    "emer_lstm_day_priority[0],\n",
    "emer_lstm_day_region[0],\n",
    "emer_mlp_day[0]]\n",
    "for _ in maes[1:]:\n",
    "    print(stats.wilcoxon(maes[0],_)[1])   "
   ]
  }
 ],
 "metadata": {
  "kernelspec": {
   "display_name": "Python 3 (ipykernel)",
   "language": "python",
   "name": "python3"
  },
  "language_info": {
   "codemirror_mode": {
    "name": "ipython",
    "version": 3
   },
   "file_extension": ".py",
   "mimetype": "text/x-python",
   "name": "python",
   "nbconvert_exporter": "python",
   "pygments_lexer": "ipython3",
   "version": "3.8.10"
  }
 },
 "nbformat": 4,
 "nbformat_minor": 5
}
